{
 "cells": [
  {
   "cell_type": "markdown",
   "metadata": {},
   "source": [
    "# Data visualization with python\n",
    "\n",
    "The goal of this script is to use the [*Seaborn*](https://seaborn.pydata.org/) library using seaborn to look at word counts in corpora, and to visualize model parameters. \n",
    "\n",
    "The dataset provided and required for this analysis, **brown_wordlist.txt**, contains the pre-sorted counts of words in the Brown Corpora."
   ]
  },
  {
   "cell_type": "markdown",
   "metadata": {},
   "source": [
    "## Part 1. Introducing Jupyter Notebooks"
   ]
  },
  {
   "cell_type": "markdown",
   "metadata": {},
   "source": [
    "**CELLS - Markdown versus Code**\n",
    "\n",
    "This is a markdown cell.  It renders as HTML\n",
    "\n",
    "I can type in **bold** or *italics*\n",
    "\n",
    "- I can have bullet points\n",
    "\n",
    "I can add LaTeX like this: $\\sqrt{2+3^8}$"
   ]
  },
  {
   "cell_type": "markdown",
   "metadata": {},
   "source": [
    "**Useful Shortcuts**\n",
    "\n",
    "See more under help > Keyboard Shortcuts.\n",
    "\n",
    "- There are 2 modes for a cell:\n",
    "    - Edit mode (blue box) and\n",
    "    - Command mode (green box)\n",
    "- Toggle between them with ESC and Return (Enter)\n",
    "- Run a cell with Ctrl + Return (Enter)\n",
    "- Add a cell above with A\n",
    "- Add a cell below with B"
   ]
  },
  {
   "cell_type": "markdown",
   "metadata": {},
   "source": [
    "## Part 2.  Data Visualization"
   ]
  },
  {
   "cell_type": "markdown",
   "metadata": {},
   "source": [
    "Let's start by importing our libraries with the conventional aliases"
   ]
  },
  {
   "cell_type": "code",
   "execution_count": null,
   "metadata": {},
   "outputs": [],
   "source": [
    "# Import libraries\n",
    "import pandas as pd\n",
    "import seaborn as sns\n",
    "import matplotlib.pyplot as plt\n",
    "\n",
    "%matplotlib inline"
   ]
  },
  {
   "cell_type": "markdown",
   "metadata": {},
   "source": [
    "Now, let's use Pandas library to read in our data into a data frame and look at the data."
   ]
  },
  {
   "cell_type": "code",
   "execution_count": null,
   "metadata": {},
   "outputs": [],
   "source": [
    "# Load an example dataset\n",
    "brown = pd.read_csv('brown_wordlist.txt', sep=' ', header=None, names=['Count','Word'])\n",
    "\n",
    "# Add a rank column that is equal to the index plus 1.  Python indexing starts at 0.\n",
    "brown['Rank'] = brown.index + 1\n",
    "\n",
    "# See what the data frame looks like:\n",
    "print(brown)"
   ]
  },
  {
   "cell_type": "code",
   "execution_count": null,
   "metadata": {},
   "outputs": [],
   "source": [
    "# See information about the dataframe\n",
    "brown.info()"
   ]
  },
  {
   "cell_type": "code",
   "execution_count": null,
   "metadata": {},
   "outputs": [],
   "source": [
    "# View data in a particular index location\n",
    "brown.iloc[0]"
   ]
  },
  {
   "cell_type": "code",
   "execution_count": null,
   "metadata": {},
   "outputs": [],
   "source": [
    "# See the columns\n",
    "brown.columns"
   ]
  },
  {
   "cell_type": "code",
   "execution_count": null,
   "metadata": {},
   "outputs": [],
   "source": [
    "# See the index\n",
    "brown.index"
   ]
  },
  {
   "cell_type": "markdown",
   "metadata": {},
   "source": [
    "### Visualization\n",
    "Use seaborn library to create a visualization.  We will start with a point (scatter) plot"
   ]
  },
  {
   "cell_type": "markdown",
   "metadata": {},
   "source": [
    "We may want some basic statistics about the data.  For example, let's look at the Count data."
   ]
  },
  {
   "cell_type": "code",
   "execution_count": null,
   "metadata": {},
   "outputs": [],
   "source": [
    "brown.Count.max()"
   ]
  },
  {
   "cell_type": "code",
   "execution_count": null,
   "metadata": {},
   "outputs": [],
   "source": [
    "brown.Count.min()"
   ]
  },
  {
   "cell_type": "code",
   "execution_count": null,
   "metadata": {},
   "outputs": [],
   "source": [
    "brown.Count.mean()"
   ]
  },
  {
   "cell_type": "code",
   "execution_count": null,
   "metadata": {},
   "outputs": [],
   "source": [
    "brown.Count.quantile([0.25,0.5,0.75])"
   ]
  },
  {
   "cell_type": "code",
   "execution_count": null,
   "metadata": {},
   "outputs": [],
   "source": [
    "# Create a visualization of the count data, alone.\n",
    "?sns.boxplot #get some help\n",
    "sns.boxplot(data=brown, x=\"Count\")\n",
    "# or\n",
    "# sns.boxplot(x=brown[\"Count\"])"
   ]
  },
  {
   "cell_type": "markdown",
   "metadata": {},
   "source": [
    "What a skew!  We need to take a better look at this data.  Let's consider the count, rank, and the words together."
   ]
  },
  {
   "cell_type": "code",
   "execution_count": null,
   "metadata": {},
   "outputs": [],
   "source": [
    "# Create a visualization: A point plot with linear axes\n",
    "sns.relplot(\n",
    "    data=brown,\n",
    "    x=\"Rank\", y=\"Count\",\n",
    "    edgecolor='none'\n",
    ")\n"
   ]
  },
  {
   "cell_type": "markdown",
   "metadata": {},
   "source": [
    "We can see this skew again on both axes.  What is a good way to look at data that spans several orders of magnitude like this?"
   ]
  },
  {
   "cell_type": "code",
   "execution_count": null,
   "metadata": {},
   "outputs": [],
   "source": [
    "# Introduce log transformation\n",
    "logplot = sns.relplot(\n",
    "    data= brown,\n",
    "    x=\"Rank\", y=\"Count\",\n",
    "    edgecolor='none'\n",
    ")\n",
    "logplot.set(xscale='log')\n"
   ]
  },
  {
   "cell_type": "markdown",
   "metadata": {},
   "source": [
    "Getting better!  What about if we take the log of the Count axis too?"
   ]
  },
  {
   "cell_type": "code",
   "execution_count": null,
   "metadata": {},
   "outputs": [],
   "source": [
    "# Introduce log-log transformation\n",
    "logplot = sns.relplot(\n",
    "    data= brown,\n",
    "    x=\"Rank\", y=\"Count\",\n",
    "    edgecolor='none'\n",
    ")\n",
    "logplot.set(xscale='log', yscale='log')\n"
   ]
  },
  {
   "cell_type": "markdown",
   "metadata": {},
   "source": [
    "Wouldn't it be more useful if we knew what the words were?"
   ]
  },
  {
   "cell_type": "code",
   "execution_count": null,
   "metadata": {},
   "outputs": [],
   "source": [
    "logplot = sns.relplot(\n",
    "    data= brown,\n",
    "    x=\"Rank\", y=\"Count\",\n",
    "    edgecolor='none'\n",
    ")\n",
    "logplot.set(xscale='log', yscale='log')\n",
    "\n",
    "\n",
    "# Define a function, label_point\n",
    "def label_point(x, y, val, ax):\n",
    "    a = pd.concat({'x': x, 'y': y, 'val': val}, axis=1)\n",
    "    for i, point in a.iterrows():\n",
    "        ax.text(point['x']+.02, point['y'], str(point['val']))\n",
    "        \n",
    "# Call the function label_point, with the Word data  \n",
    "# Label a selection of words\n",
    "index_values = [0,1,2,5,10,25,50,100,250,1000,2500,5000,10000,25000,40000]\n",
    "label_point(brown.Rank[index_values], brown.Count[index_values], brown.Word[index_values], plt.gca())  \n"
   ]
  },
  {
   "cell_type": "code",
   "execution_count": null,
   "metadata": {},
   "outputs": [],
   "source": [
    "# Show how to do a line plot (instead of a scatter plot)\n",
    "logplot = sns.relplot(\n",
    "    data= brown, \n",
    "    kind=\"line\",\n",
    "    x=\"Rank\", y=\"Count\"\n",
    ")\n",
    "logplot.set(xscale='log', yscale='log')"
   ]
  },
  {
   "cell_type": "markdown",
   "metadata": {},
   "source": [
    "# Your turn!\n",
    "Complete the following three questions to reinforce skills, practice abstraction, and warm up for Friday's debugging session."
   ]
  },
  {
   "cell_type": "markdown",
   "metadata": {},
   "source": [
    "## Question 1. Reinforce skills \n",
    "### Step 1. Read in the data tail_freq.csv to a pandas dataframe. Add a rank column"
   ]
  },
  {
   "cell_type": "code",
   "execution_count": null,
   "metadata": {},
   "outputs": [],
   "source": []
  },
  {
   "cell_type": "markdown",
   "metadata": {},
   "source": [
    "### Step 2.  Plot count versus rank as a point plot, and adjust axis scales if needed.  Label a few words."
   ]
  },
  {
   "cell_type": "code",
   "execution_count": null,
   "metadata": {},
   "outputs": [],
   "source": []
  },
  {
   "cell_type": "markdown",
   "metadata": {},
   "source": [
    "## Question 2. Simplify the following code using a function\n",
    "The purpose of this exercise is to identify patterns in the tasks the code is trying to acheive, and to shorten the code by defining a function that can be called for repeat tasks.  This will lessen the amount of editing you will have to do if there is an error in part of your code.  You may even find yourself saving useful functions to build your personal toolbox!"
   ]
  },
  {
   "cell_type": "code",
   "execution_count": null,
   "metadata": {
    "scrolled": true
   },
   "outputs": [],
   "source": [
    "\n",
    "# Plot of top 100 ranked words\n",
    "brown100 = brown[brown.Rank <= 100]\n",
    "logplot = sns.relplot(data= brown100, x=\"Rank\", y=\"Count\", edgecolor='none')\n",
    "index_values = [0,24,49,74,99]\n",
    "label_point(brown100.Rank[index_values], brown100.Count[index_values], brown100.Word[index_values], plt.gca())  \n"
   ]
  },
  {
   "cell_type": "code",
   "execution_count": null,
   "metadata": {},
   "outputs": [],
   "source": [
    "# Plot of ranked 101-200 words\n",
    "brown200 = brown[brown.Rank < 201]\n",
    "brown200 = brown200[brown200.Rank > 100]\n",
    "logplot = sns.relplot(data= brown200, x=\"Rank\", y=\"Count\", edgecolor='none')\n",
    "index_values = [100,124,149,174,199] \n",
    "label_point(brown200.Rank[index_values], brown200.Count[index_values], brown200.Word[index_values], plt.gca())"
   ]
  },
  {
   "cell_type": "code",
   "execution_count": null,
   "metadata": {},
   "outputs": [],
   "source": [
    "# Plot of ranked 201-300 words\n",
    "brown300 = brown[brown.Rank < 301]\n",
    "brown300 = brown300[brown300.Rank > 200]\n",
    "logplot = sns.relplot(data= brown300, x=\"Rank\", y=\"Count\", edgecolor='none')\n",
    "index_values = [200,224,249,274,299] \n",
    "label_point(brown300.Rank[index_values], brown300.Count[index_values], brown300.Word[index_values], plt.gca())"
   ]
  },
  {
   "cell_type": "markdown",
   "metadata": {},
   "source": [
    "## Question 3.  What do you think this code might do?  Add a print statement to figure it out."
   ]
  },
  {
   "cell_type": "code",
   "execution_count": null,
   "metadata": {},
   "outputs": [],
   "source": [
    "# Read this program and try to predict what it does\n",
    "# Run it: how accurate was your prediction?\n",
    "# Refactor the program to make it more readable.\n",
    "\n",
    "n = 10\n",
    "s = 'et cetera et cetera'\n",
    "print(s)\n",
    "\n",
    "i = 0\n",
    "while i < n :\n",
    "    #print('at', j)\n",
    "    new = ''\n",
    "    for j in range(len(s)):\n",
    "        left = j-1\n",
    "        right = (j+1)%len(s)\n",
    "        if s[left]==s[right]: \n",
    "            new += \"-\"\n",
    "        else: \n",
    "            new += \"*\"\n",
    "    s=''.join(new)\n",
    "    i += 1  # shortcut  i = i + 1\n"
   ]
  },
  {
   "cell_type": "markdown",
   "metadata": {},
   "source": [
    "Great work today!  Ask on the slack channel, or contact dataservices@brandeis.edu with questions."
   ]
  }
 ],
 "metadata": {
  "kernelspec": {
   "display_name": "Python 3",
   "language": "python",
   "name": "python3"
  },
  "language_info": {
   "codemirror_mode": {
    "name": "ipython",
    "version": 3
   },
   "file_extension": ".py",
   "mimetype": "text/x-python",
   "name": "python",
   "nbconvert_exporter": "python",
   "pygments_lexer": "ipython3",
   "version": "3.8.3"
  }
 },
 "nbformat": 4,
 "nbformat_minor": 4
}
